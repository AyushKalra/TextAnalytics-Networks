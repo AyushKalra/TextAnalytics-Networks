{
  "nbformat": 4,
  "nbformat_minor": 0,
  "metadata": {
    "colab": {
      "name": "Text Analytics - Twitter Network - Stochastic Gradient Descent - Jax.ipynb",
      "provenance": [],
      "collapsed_sections": [
        "PMNBAxtObfmW",
        "qluzKC8zcLBW",
        "Ro2obsMtcRIR",
        "oHPznWofJYAY",
        "n2q7FmgSLdLs",
        "nBcpaROQLhSe"
      ],
      "machine_shape": "hm"
    },
    "kernelspec": {
      "name": "python3",
      "display_name": "Python 3"
    },
    "language_info": {
      "name": "python"
    },
    "accelerator": "GPU"
  },
  "cells": [
    {
      "cell_type": "code",
      "source": [
        "import jax.numpy as jnp\n",
        "import numpy as np\n",
        "from jax import grad, jit, vmap, pmap, random"
      ],
      "metadata": {
        "id": "Xo716B66l2zQ"
      },
      "execution_count": 1,
      "outputs": []
    },
    {
      "cell_type": "markdown",
      "source": [
        "# Datatypes and Naming Conventions"
      ],
      "metadata": {
        "id": "eFXkRq62dnO7"
      }
    },
    {
      "cell_type": "markdown",
      "source": [
        "### Type Synonyms"
      ],
      "metadata": {
        "id": "mNLYN2TJfpkb"
      }
    },
    {
      "cell_type": "code",
      "source": [
        "from typing import Any\n",
        "from typing import FrozenSet\n",
        "from typing import List\n",
        "import numpy.typing as npt\n",
        "\n",
        "UserId = str\n",
        "UserIdSet = FrozenSet[UserId]\n",
        "\n",
        "Corpus = str\n",
        "Token = str\n",
        "Tokens = List[Token]\n",
        "UniqueTokens = FrozenSet[Token]\n",
        "\n",
        "Edge = Any\n",
        "Edges = FrozenSet[Edge]\n",
        "\n",
        "Graph = Any\n",
        "EdgeWeight = int\n",
        "\n",
        "Vec = any\n",
        "VecInt = npt.NDArray[np.int_]\n",
        "WordVec = VecInt\n",
        "\n",
        "TwitterData = Any\n",
        "TwitterDataP = Any\n",
        "\n",
        "TokenCount = Any\n",
        "\n",
        "\n",
        "UserCorpusMap = Any\n",
        "UserTokensMap = Any\n",
        "UserTokenCountMap = Any\n",
        "UserWordVecMap = Any\n",
        "Set = Any\n",
        "IndexMap = Any\n",
        "WordVecIndex   = IndexMap\n",
        "EdgeVecIndex = IndexMap"
      ],
      "metadata": {
        "id": "S_ufEVw8fi87"
      },
      "execution_count": 2,
      "outputs": []
    },
    {
      "cell_type": "markdown",
      "source": [
        "\n",
        "\n",
        "```\n",
        "TwitterDataP = \n",
        "            [\n",
        "              {\n",
        "                user: UserId,\n",
        "                corpus: Tokens,\n",
        "                followers: [ UserId ],\n",
        "                followings: [ UserId ]\n",
        "              }\n",
        "            ]\n",
        "\n",
        "Edge = frozenset(UserId, UserId)\n",
        "Graph = Map<Edge, EdgeWeight>\n",
        "\n",
        "TokenCount = Map<Token, Int>\n",
        "\n",
        "UserCorpusMap = Map<UserId, Corpus>\n",
        "UserTokensMap = Map<UserId, Tokens>\n",
        "UserTokenCountMap = Map<UserId, TokenCount>\n",
        "UserWordVecMap = Map<UserId, WordVec>\n",
        "\n",
        "WordVecIndex = Map<Token, Integer>\n",
        "EdgeVecIndex = Map<Edge, Integer>\n",
        "\n",
        "IndexMap = Map<T, Integer>\n",
        "```\n",
        "\n"
      ],
      "metadata": {
        "id": "iDYw3uIUgQjH"
      }
    },
    {
      "cell_type": "markdown",
      "source": [
        "# Functions"
      ],
      "metadata": {
        "id": "KdNRHAuXbPwW"
      }
    },
    {
      "cell_type": "markdown",
      "source": [
        "## User Extraction from Data"
      ],
      "metadata": {
        "id": "PMNBAxtObfmW"
      }
    },
    {
      "cell_type": "code",
      "source": [
        "def createUserTokensMap(data : TwitterDataP) -> UserTokensMap:\n",
        "  userTokensMap = {}\n",
        "  for user in data:\n",
        "    userTokensMap[user['user']] = user['corpus']\n",
        "  return userTokensMap\n",
        "\n",
        "def getUserIdSet(userCorpusMap : UserCorpusMap) -> UserIdSet:\n",
        "  return frozenset(userCorpusMap.keys())"
      ],
      "metadata": {
        "id": "lcZ5M9UWdRyK"
      },
      "execution_count": 236,
      "outputs": []
    },
    {
      "cell_type": "markdown",
      "source": [
        "## Graph Construction"
      ],
      "metadata": {
        "id": "qluzKC8zcLBW"
      }
    },
    {
      "cell_type": "code",
      "source": [
        "from itertools import combinations\n",
        "\n",
        "def mkEdge(u1 : UserId, u2 : UserId) -> Edge:\n",
        "  return frozenset({u1,u2})\n",
        "\n",
        "def createEdges(userIdSet : UserIdSet) -> Edges:\n",
        "  edges = set({})\n",
        "  for (a,b) in combinations(userIdSet, 2):\n",
        "    edges.add(mkEdge(a, b))\n",
        "  return edges\n",
        "\n",
        "def graphSet(edges : Edges, val : int) -> Graph:\n",
        "  graph = {}\n",
        "  for e in edges:\n",
        "    graph[e] = val\n",
        "  return graph\n",
        "\n",
        "def graphZeroed(edges : Edges) -> Graph:\n",
        "  return graphSet(edges, 0)\n",
        "\n",
        "def graphMergeGroundTruth(graph: Graph, data : TwitterDataP) -> Graph:\n",
        "  mergedGraph = graph.copy()\n",
        "  for d in data:\n",
        "    followed = set(d['followers'])\n",
        "    following = set(d['followings'])\n",
        "    u1 = d['user']\n",
        "\n",
        "    for u2 in followed:\n",
        "      mergedGraph[mkEdge(u1, u2)] = 0.5\n",
        "    for u2 in following:\n",
        "      mergedGraph[mkEdge(u1, u2)] = 0.5\n",
        "\n",
        "    twoWay = followed.intersection(following)\n",
        "    for u2 in twoWay:\n",
        "      mergedGraph[mkEdge(u1, u2)] = 1.0\n",
        "\n",
        "  return mergedGraph\n",
        "\n",
        "def graphCos(edges: Edges, userWordVecMap : UserWordVecMap) -> Graph:\n",
        "  graph = {}\n",
        "  for u1, u2 in edges:\n",
        "    v = cos(userWordVecMap[u1], userWordVecMap[u2])\n",
        "    graph[mkEdge(u1,u2)] = v\n",
        "  return graph\n",
        "\n",
        "def createEdgeVecIndex(edges: Edges) -> EdgeVecIndex:\n",
        "  return createWordVecIndex(edges)\n",
        "\n",
        "def graphEdgeVec(graph : Graph, edgeVecIndex : EdgeVecIndex):\n",
        "  return tokenCountWordVec(graph, edgeVecIndex)"
      ],
      "metadata": {
        "id": "YIQDQLVYA16W"
      },
      "execution_count": 237,
      "outputs": []
    },
    {
      "cell_type": "markdown",
      "source": [
        "## Corpus Processing and Transformations"
      ],
      "metadata": {
        "id": "Ro2obsMtcRIR"
      }
    },
    {
      "cell_type": "code",
      "source": [
        "from nltk import word_tokenize"
      ],
      "metadata": {
        "id": "MhWSMPj9tQ6M"
      },
      "execution_count": 238,
      "outputs": []
    },
    {
      "cell_type": "code",
      "source": [
        "def countTokens(tokens : Tokens) -> TokenCount:\n",
        "  tokenCount = {}\n",
        "  for token in tokens:  \n",
        "    tokenCount[token] = tokenCount.get(token, 0) + 1\n",
        "  return tokenCount\n",
        "\n",
        "def combineTokensList(tokens : List[Tokens]) -> Tokens:\n",
        "  return sum(tokens, [])\n",
        "\n",
        "def tokenise(corpus : Corpus) -> Tokens:\n",
        "  return word_tokenize(corpus)\n",
        "\n",
        "def leastOccuringTokens(countUpperBound : int, tokenCount : TokenCount) -> Tokens:\n",
        "  leastOccuring = []\n",
        "  for token, count in tokenCount.items():\n",
        "    if count <= countUpperBound:\n",
        "      leastOccuring.append(token)\n",
        "  return leastOccuring\n",
        "\n",
        "def excludeTokens(excludedTokens : Tokens, tokenCount : TokenCount) -> TokenCount:\n",
        "  excludedCount = tokenCount.copy()\n",
        "  for token in excludedTokens:\n",
        "    if token in excludedCount:\n",
        "      del excludedCount[token]\n",
        "  return excludedCount\n"
      ],
      "metadata": {
        "id": "mxPO5ktRrvh8"
      },
      "execution_count": 239,
      "outputs": []
    },
    {
      "cell_type": "markdown",
      "source": [
        "## WordVector\n"
      ],
      "metadata": {
        "id": "BSifSMX-cX2O"
      }
    },
    {
      "cell_type": "code",
      "source": [
        "def createWordVecIndex(allUniqueTokens : UniqueTokens) -> WordVecIndex:\n",
        "  wvIndex = {}\n",
        "  for wordIndex, word in enumerate(allUniqueTokens):\n",
        "    wvIndex[word] = wordIndex\n",
        "  return wvIndex\n",
        "\n",
        "def createUserWordVecMap(userTokenCountMap : UserTokenCountMap, wvIndex : WordVecIndex) -> UserWordVecMap:\n",
        "    userWvMap = userTokenCountMap.copy()\n",
        "    for userId, tokenCount in userTokenCountMap.items():\n",
        "        userWvMap[userId] = tokenCountWordVec(tokenCount, wvIndex)\n",
        "    return userWvMap\n",
        "\n",
        "def tokenCountWordVec(tokenCount : TokenCount, wvIndex : WordVecIndex) -> WordVec:\n",
        "    wordVec = np.zeros(len(wvIndex))\n",
        "    for token, count in tokenCount.items():\n",
        "      if token in wvIndex:\n",
        "          wordIndex = wvIndex[token]\n",
        "          wordVec[wordIndex] = count\n",
        "    return wordVec"
      ],
      "metadata": {
        "id": "rRouc2sudb9R"
      },
      "execution_count": 240,
      "outputs": []
    },
    {
      "cell_type": "markdown",
      "source": [
        "## Similarity Measures"
      ],
      "metadata": {
        "id": "IkovB1aJcdfR"
      }
    },
    {
      "cell_type": "code",
      "source": [
        "@jit\n",
        "def cos(v1 : Vec, v2 : Vec) -> float:\n",
        "  return jnp.sum(v1 * v2) / (jnp.sqrt(jnp.sum(v1**2)) * (jnp.sqrt(jnp.sum(v2**2))) + 0.000001)\n",
        "\n",
        "@jit\n",
        "def cos2(v : Vec) -> float:\n",
        "  #print(v.shape)\n",
        "  #print(v)\n",
        "  v1 = v[0]\n",
        "  v2 = v[1]\n",
        "  r = jnp.sum(v1 * v2) / (jnp.sqrt(jnp.sum(v1**2)) * (jnp.sqrt(jnp.sum(v2**2))) + 0.000001)\n",
        "  #print(r)\n",
        "  return r\n",
        "\n",
        "def npcos2(v : Vec) -> float:\n",
        "  #print(v.shape)\n",
        "  #print(v)\n",
        "  v1 = v[0]\n",
        "  v2 = v[1]\n",
        "  r = np.sum(v1 * v2) / (np.sqrt(np.sum(v1**2)) * (np.sqrt(np.sum(v2**2))) + 0.000001)\n",
        "  #print(r)\n",
        "  return r\n",
        "\n",
        "def euc2(v1 : Vec, v2 : Vec) -> float:\n",
        "  return jnp.sqrt(jnp.sum((v1 - v2)**2))"
      ],
      "metadata": {
        "id": "upPYNJFsGy_M"
      },
      "execution_count": 241,
      "outputs": []
    },
    {
      "cell_type": "code",
      "source": [
        "npcos2(np.array([[1, 1, 0],[0, 1 ,0]]))"
      ],
      "metadata": {
        "colab": {
          "base_uri": "https://localhost:8080/",
          "height": 0
        },
        "id": "ecpdqI4VVkHg",
        "outputId": "6e835192-cffc-4f59-8f4b-9a73a1dc7af6"
      },
      "execution_count": 242,
      "outputs": [
        {
          "output_type": "execute_result",
          "data": {
            "text/plain": [
              "0.7071062811869011"
            ]
          },
          "metadata": {},
          "execution_count": 242
        }
      ]
    },
    {
      "cell_type": "markdown",
      "source": [
        "# Loading Data & Processing Data"
      ],
      "metadata": {
        "id": "Hg8ZZ5wRYtut"
      }
    },
    {
      "cell_type": "markdown",
      "source": [
        "## Loading and Counting"
      ],
      "metadata": {
        "id": "ZFWvRl8E7LWo"
      }
    },
    {
      "cell_type": "markdown",
      "source": [
        "from google.colab import drive\n",
        "drive.mount('/content/drive')"
      ],
      "metadata": {
        "id": "HR1w_HyVY9wD"
      }
    },
    {
      "cell_type": "code",
      "source": [
        "from google.colab import drive\n",
        "drive.mount('/content/drive')"
      ],
      "metadata": {
        "colab": {
          "base_uri": "https://localhost:8080/",
          "height": 0
        },
        "id": "e0OFzW1bd3eV",
        "outputId": "201c07d3-e87a-46c7-c2de-d78771d22b10"
      },
      "execution_count": 10,
      "outputs": [
        {
          "output_type": "stream",
          "name": "stdout",
          "text": [
            "Drive already mounted at /content/drive; to attempt to forcibly remount, call drive.mount(\"/content/drive\", force_remount=True).\n"
          ]
        }
      ]
    },
    {
      "cell_type": "code",
      "source": [
        "import json\n",
        "with open('./drive/MyDrive/TA/data_pre.json', 'r') as f:\n",
        "  dataset = json.load(f)['dataset']\n",
        "dataset[0].keys()"
      ],
      "metadata": {
        "colab": {
          "base_uri": "https://localhost:8080/",
          "height": 0
        },
        "id": "jFMPciYmaZ10",
        "outputId": "b63b85fa-d9c8-4b4e-dd03-66f1902994c2"
      },
      "execution_count": 11,
      "outputs": [
        {
          "output_type": "execute_result",
          "data": {
            "text/plain": [
              "dict_keys(['user', 'corpus', 'followers', 'followings'])"
            ]
          },
          "metadata": {},
          "execution_count": 11
        }
      ]
    },
    {
      "cell_type": "code",
      "source": [
        "userTokensMap = createUserTokensMap(dataset)\n",
        "print(\"Users in dataset: \\t\", len(userTokensMap))"
      ],
      "metadata": {
        "colab": {
          "base_uri": "https://localhost:8080/",
          "height": 0
        },
        "id": "YJj4PxDcyFzO",
        "outputId": "a371b29b-fda5-461c-8631-0331e8227082"
      },
      "execution_count": 12,
      "outputs": [
        {
          "output_type": "stream",
          "name": "stdout",
          "text": [
            "Users in dataset: \t 296\n"
          ]
        }
      ]
    },
    {
      "cell_type": "code",
      "source": [
        "combinedTokens = combineTokensList(list(userTokensMap.values()))\n",
        "print(\"Total token count: \\t\",len(combinedTokens))\n",
        "\n",
        "totalTokenCount = countTokens(combinedTokens)\n",
        "print(\"Unique tokens: \\t \\t\", len(totalTokenCount.keys()))"
      ],
      "metadata": {
        "colab": {
          "base_uri": "https://localhost:8080/",
          "height": 0
        },
        "id": "BZ1L6GXst6TU",
        "outputId": "925c1103-f255-413a-b482-02b68159fc0f"
      },
      "execution_count": 13,
      "outputs": [
        {
          "output_type": "stream",
          "name": "stdout",
          "text": [
            "Total token count: \t 81498\n",
            "Unique tokens: \t \t 21592\n"
          ]
        }
      ]
    },
    {
      "cell_type": "code",
      "source": [
        "mapToTuples = lambda x: [(k, v) for k, v in x.items()]\n",
        "sortByVal   = lambda x: sorted(mapToTuples(x), reverse=True, key=lambda x: x[1])"
      ],
      "metadata": {
        "id": "D77efj1_ybpe"
      },
      "execution_count": 14,
      "outputs": []
    },
    {
      "cell_type": "code",
      "source": [
        "print(\"Top 10 tokens: \\t \\t\", sortByVal(totalTokenCount)[:10])\n",
        "print(\"Bottom 10 tokens: \\t\", sortByVal(totalTokenCount)[::-1][:10])"
      ],
      "metadata": {
        "colab": {
          "base_uri": "https://localhost:8080/",
          "height": 0
        },
        "id": "Y_brwRESyIzg",
        "outputId": "2071ee8a-7228-431a-dc3e-84955549fe7f"
      },
      "execution_count": 15,
      "outputs": [
        {
          "output_type": "stream",
          "name": "stdout",
          "text": [
            "Top 10 tokens: \t \t [('us', 403), ('n', 332), ('ukraine', 327), ('nn', 322), ('new', 290), ('amp', 278), ('russia', 244), ('like', 223), ('one', 218), ('de', 213)]\n",
            "Bottom 10 tokens: \t [('merry', 1), ('benny', 1), ('thoses', 1), ('lap', 1), ('ruin', 1), ('angrybeaver', 1), ('mrctv', 1), ('prek', 1), ('statefunded', 1), ('dang', 1)]\n"
          ]
        }
      ]
    },
    {
      "cell_type": "markdown",
      "source": [
        "## Pruning Least Occuring Tokens"
      ],
      "metadata": {
        "id": "c_KB8EPh5MXB"
      }
    },
    {
      "cell_type": "code",
      "source": [
        "leastOccuring3 = leastOccuringTokens(3, totalTokenCount)\n",
        "print(\"Unique tokens that occur 3 or less times: \\t\", len(leastOccuring3))\n",
        "print(leastOccuring3[:5])"
      ],
      "metadata": {
        "colab": {
          "base_uri": "https://localhost:8080/",
          "height": 0
        },
        "id": "uetWIu7Azivt",
        "outputId": "dc965a25-5a9c-49de-919c-ef7ac6d9e3e8"
      },
      "execution_count": 16,
      "outputs": [
        {
          "output_type": "stream",
          "name": "stdout",
          "text": [
            "Unique tokens that occur 3 or less times: \t 17659\n",
            "['patronisi', 'pat', 'patria', 'patronis', 'ceasefire']\n"
          ]
        }
      ]
    },
    {
      "cell_type": "code",
      "source": [
        "excludedCount3 = excludeTokens(leastOccuring3, totalTokenCount)\n",
        "print(\"Unique tokens that occur more than 3 times: \\t\", len(excludedCount3))\n",
        "print(mapToTuples(excludedCount3)[:5])"
      ],
      "metadata": {
        "colab": {
          "base_uri": "https://localhost:8080/",
          "height": 0
        },
        "id": "FCSgJZDZ4PcD",
        "outputId": "ce007c23-f5b3-4298-8c85-113e6be9dd18"
      },
      "execution_count": 17,
      "outputs": [
        {
          "output_type": "stream",
          "name": "stdout",
          "text": [
            "Unique tokens that occur more than 3 times: \t 3933\n",
            "[('cant', 128), ('quite', 79), ('call', 171), ('misogyny', 65), ('patriarchal', 60)]\n"
          ]
        }
      ]
    },
    {
      "cell_type": "code",
      "source": [
        "userTokenCountMap = userTokensMap.copy()\n",
        "for user, tokens in userTokenCountMap.items():\n",
        "  userTokenCountMap[user] = excludeTokens(leastOccuring3, countTokens(tokens))"
      ],
      "metadata": {
        "id": "Pq_X3gho5Qr4"
      },
      "execution_count": 18,
      "outputs": []
    },
    {
      "cell_type": "code",
      "source": [
        "mapToTuples(userTokenCountMap)[0]"
      ],
      "metadata": {
        "colab": {
          "base_uri": "https://localhost:8080/",
          "height": 0
        },
        "id": "6Wg6BQhq6O5W",
        "outputId": "98cd0612-a4cb-4efa-c565-642c72ccdb66"
      },
      "execution_count": 19,
      "outputs": [
        {
          "output_type": "execute_result",
          "data": {
            "text/plain": [
              "(453998026,\n",
              " {'call': 122,\n",
              "  'cant': 61,\n",
              "  'face': 4,\n",
              "  'misogyny': 61,\n",
              "  'p': 1,\n",
              "  'patriarchal': 60,\n",
              "  'patronising': 56,\n",
              "  'pom': 5,\n",
              "  'pomp': 3,\n",
              "  'pompo': 6,\n",
              "  'pompou': 6,\n",
              "  'pompous': 36,\n",
              "  'quite': 61,\n",
              "  'r': 5,\n",
              "  'raab': 5})"
            ]
          },
          "metadata": {},
          "execution_count": 19
        }
      ]
    },
    {
      "cell_type": "markdown",
      "source": [
        "# Constructing Graphs"
      ],
      "metadata": {
        "id": "34XPQ_np7j6E"
      }
    },
    {
      "cell_type": "markdown",
      "source": [
        "### Ground Truth Graph"
      ],
      "metadata": {
        "id": "uifiGfX5FRew"
      }
    },
    {
      "cell_type": "code",
      "source": [
        "userIdSet = getUserIdSet(userTokenCountMap)\n",
        "edges = createEdges(userIdSet)\n",
        "graphZero = graphZeroed(edges)\n",
        "graphGroundTruth = graphMergeGroundTruth(graphZero, dataset)\n",
        "\n",
        "print(\"Total connections strength: \\t\", sum(graphGroundTruth.values()))\n",
        "print(\"Number of edges: \\t \\t\",len(graphGroundTruth.keys()))"
      ],
      "metadata": {
        "colab": {
          "base_uri": "https://localhost:8080/",
          "height": 0
        },
        "id": "jlgpI1a-7pIq",
        "outputId": "6cb05613-69fd-4955-8f05-18bc6ffc873b"
      },
      "execution_count": 20,
      "outputs": [
        {
          "output_type": "stream",
          "name": "stdout",
          "text": [
            "Total connections strength: \t 1458.0\n",
            "Number of edges: \t \t 46138\n"
          ]
        }
      ]
    },
    {
      "cell_type": "markdown",
      "source": [
        "WordVec Cosine Similarity Graph"
      ],
      "metadata": {
        "id": "6rggVT6QFWUc"
      }
    },
    {
      "cell_type": "code",
      "source": [
        "wvIndex = createWordVecIndex(excludedCount3.keys())\n",
        "userWordVecMap = createUserWordVecMap(userTokenCountMap, wvIndex)"
      ],
      "metadata": {
        "id": "hwnxbDQtFcwx"
      },
      "execution_count": 21,
      "outputs": []
    },
    {
      "cell_type": "code",
      "source": [
        "print(\"Unique tokens a.k.a Vector length: \\t\", len(wvIndex))\n",
        "print(\"Number of users: \\t \\t \\t\", len(userWordVecMap))\n",
        "print(\"User wv length: \\t \\t \\t\", len(list(userWordVecMap.values())[0]))"
      ],
      "metadata": {
        "colab": {
          "base_uri": "https://localhost:8080/",
          "height": 0
        },
        "id": "qTDkZkn9MBZl",
        "outputId": "444efcf4-23e2-47c1-92e5-3c341ef6e6b4"
      },
      "execution_count": 22,
      "outputs": [
        {
          "output_type": "stream",
          "name": "stdout",
          "text": [
            "Unique tokens a.k.a Vector length: \t 3933\n",
            "Number of users: \t \t \t 296\n",
            "User wv length: \t \t \t 3933\n"
          ]
        }
      ]
    },
    {
      "cell_type": "code",
      "source": [
        "graphCosine = graphCos(edges, userWordVecMap)"
      ],
      "metadata": {
        "id": "5ciNloF5L4tF"
      },
      "execution_count": 23,
      "outputs": []
    },
    {
      "cell_type": "code",
      "source": [
        "mapToTuples(graphCosine)[:10]"
      ],
      "metadata": {
        "colab": {
          "base_uri": "https://localhost:8080/",
          "height": 0
        },
        "id": "itBSDsnNNURz",
        "outputId": "d37e9fbd-441e-4020-8735-87a2df8ca425"
      },
      "execution_count": 24,
      "outputs": [
        {
          "output_type": "execute_result",
          "data": {
            "text/plain": [
              "[(frozenset({3108351, 1400041982}), DeviceArray(0.18007487, dtype=float32)),\n",
              " (frozenset({45074533, 4180260695}), DeviceArray(0.01034437, dtype=float32)),\n",
              " (frozenset({4823751748, 1503701879305383937}),\n",
              "  DeviceArray(0., dtype=float32)),\n",
              " (frozenset({350096077, 965947791041286144}),\n",
              "  DeviceArray(0.04172273, dtype=float32)),\n",
              " (frozenset({853318165, 1071810346397122561}), DeviceArray(0., dtype=float32)),\n",
              " (frozenset({19910041, 1504164687549718529}),\n",
              "  DeviceArray(0.10908907, dtype=float32)),\n",
              " (frozenset({197395180, 387283465}), DeviceArray(0.04242812, dtype=float32)),\n",
              " (frozenset({21677872, 352585204}), DeviceArray(0.06050891, dtype=float32)),\n",
              " (frozenset({340439524, 954021692426407936}),\n",
              "  DeviceArray(0.12762138, dtype=float32)),\n",
              " (frozenset({14131257, 1333129975571034119}),\n",
              "  DeviceArray(0.1995641, dtype=float32))]"
            ]
          },
          "metadata": {},
          "execution_count": 24
        }
      ]
    },
    {
      "cell_type": "markdown",
      "source": [
        "# Analyising Data "
      ],
      "metadata": {
        "id": "oHPznWofJYAY"
      }
    },
    {
      "cell_type": "markdown",
      "source": [
        "We have 2 datasets:\n",
        "- Dataset 1 : Retrieved by traversing followers on twitter.\n",
        "- Dataset 2 : Retrived by querying a topic and gathering the users.\n",
        "\n",
        "We have already pre-processed dataset, now preprocess dataset 2.  \n",
        "We also want to learn about each of the datasets. \n",
        "We can first investigate the links:\n",
        "- Looking at total number of users in each dataset.\n",
        "- Counting the percentage of edges which are 0.5 strength on the ground truth graph.\n",
        "- Counting the percentage of edges which are 1 strength on the ground truth graph.\n",
        "\n",
        "We can also investigate the text content of the whole corpus:\n",
        "- How many unique tokens are there in each dataset?\n",
        "- What is the mean and variance of the number of unique tokens for a single user in each dataset?\n",
        "- What is the distribution of the tokens for the each dataset?\n",
        "\n",
        "Yash has plotted the plot of token occurance for dataset 1, do the same for dataset 2.\n"
      ],
      "metadata": {
        "id": "X5M7RVG3JdqV"
      }
    },
    {
      "cell_type": "markdown",
      "source": [
        "### Links in Each Dataset"
      ],
      "metadata": {
        "id": "n2q7FmgSLdLs"
      }
    },
    {
      "cell_type": "code",
      "source": [
        "numberOfUsersDataset1 = len(userTokenCountMap)\n",
        "print(numberOfUsersDataset1)\n",
        "# repeat for dataset 2"
      ],
      "metadata": {
        "colab": {
          "base_uri": "https://localhost:8080/",
          "height": 0
        },
        "id": "dbyDj_UsLmce",
        "outputId": "afac64d2-3c23-47ad-93fa-c8d6f749ca05"
      },
      "execution_count": 25,
      "outputs": [
        {
          "output_type": "stream",
          "name": "stdout",
          "text": [
            "296\n"
          ]
        }
      ]
    },
    {
      "cell_type": "code",
      "source": [
        "print(mapToTuples(graphGroundTruth)[:5])"
      ],
      "metadata": {
        "colab": {
          "base_uri": "https://localhost:8080/",
          "height": 0
        },
        "id": "OTYaznHTQyQZ",
        "outputId": "49acc4e6-7ced-4c6a-a40e-db8c5edde1b3"
      },
      "execution_count": 26,
      "outputs": [
        {
          "output_type": "stream",
          "name": "stdout",
          "text": [
            "[(frozenset({1400041982, 3108351}), 0), (frozenset({45074533, 4180260695}), 0), (frozenset({1503701879305383937, 4823751748}), 0), (frozenset({965947791041286144, 350096077}), 0), (frozenset({1071810346397122561, 853318165}), 0)]\n"
          ]
        }
      ]
    },
    {
      "cell_type": "code",
      "source": [
        "def countValOccurance(vals, val):\n",
        "  count = 0\n",
        "  for v in vals:\n",
        "    if val == v:\n",
        "      count += 1\n",
        "  return count\n",
        "\n",
        "totalEdges = len(graphGroundTruth)\n",
        "print(totalEdges)\n",
        "halfLinkCount = countValOccurance(graphGroundTruth.values(), 0.5)\n",
        "fullLinkCount = countValOccurance(graphGroundTruth.values(), 1)\n",
        "print(halfLinkCount/totalEdges)\n",
        "print(fullLinkCount/totalEdges)\n",
        "\n",
        "# repeat for dataset 2"
      ],
      "metadata": {
        "colab": {
          "base_uri": "https://localhost:8080/",
          "height": 0
        },
        "id": "ttTjTkCrNLpT",
        "outputId": "61edc080-c3d4-402b-da06-04cb2b1d99bf"
      },
      "execution_count": 27,
      "outputs": [
        {
          "output_type": "stream",
          "name": "stdout",
          "text": [
            "46138\n",
            "0.05743638649269583\n",
            "0.0028826563786900168\n"
          ]
        }
      ]
    },
    {
      "cell_type": "markdown",
      "source": [
        "### Text Content of Dataset"
      ],
      "metadata": {
        "id": "nBcpaROQLhSe"
      }
    },
    {
      "cell_type": "code",
      "source": [
        "# can use userTokenCountMap and excludedCount3/\n",
        "print(mapToTuples(userTokenCountMap)[0]) # is a map from user to token count for that user\n",
        "# excludedCount3 has all the tokens counted, except maybe do it for full token list (see the code above that constructs this variable)"
      ],
      "metadata": {
        "colab": {
          "base_uri": "https://localhost:8080/",
          "height": 0
        },
        "id": "dSCrI3TaLb3p",
        "outputId": "6415b869-d1e1-4c64-8bd3-b44aba9f572b"
      },
      "execution_count": 28,
      "outputs": [
        {
          "output_type": "stream",
          "name": "stdout",
          "text": [
            "(453998026, {'cant': 61, 'quite': 61, 'call': 122, 'misogyny': 61, 'patriarchal': 60, 'patronising': 56, 'pompous': 36, 'pomp': 3, 'pompou': 6, 'r': 5, 'pom': 5, 'pompo': 6, 'raab': 5, 'face': 4, 'p': 1})\n"
          ]
        }
      ]
    },
    {
      "cell_type": "code",
      "source": [
        ""
      ],
      "metadata": {
        "id": "qWdgjKrqO0dV"
      },
      "execution_count": 28,
      "outputs": []
    },
    {
      "cell_type": "markdown",
      "source": [
        "# Comparing Graphs with Similarity Measures"
      ],
      "metadata": {
        "id": "It02rM4qZsDY"
      }
    },
    {
      "cell_type": "code",
      "source": [
        "edgeVecIndex = createEdgeVecIndex(edges)\n",
        "cosineEv = graphEdgeVec(graphCosine, edgeVecIndex)\n",
        "groundTruthEv = graphEdgeVec(graphGroundTruth, edgeVecIndex)\n",
        "zeroedEv = graphEdgeVec(graphZero, edgeVecIndex)\n",
        "meanEv = graphEdgeVec(graphSet(edges, np.mean(groundTruthEv)), edgeVecIndex)"
      ],
      "metadata": {
        "id": "TEOpMj7PSfpP"
      },
      "execution_count": 29,
      "outputs": []
    },
    {
      "cell_type": "code",
      "source": [
        "print(\"Ground Truth vs Cosine Similarity\")\n",
        "print(\"Cosine Similarity: \\t\", cos(cosineEv, groundTruthEv))\n",
        "print(\"Euclidean Distance: \\t\", euc2(cosineEv, groundTruthEv))\n",
        "\n",
        "print(\"\\nIdenities\")\n",
        "print(\"Cosine Similarity: \\t\", cos(cosineEv, cosineEv))\n",
        "print(\"Euclidean Distance: \\t\", euc2(cosineEv, cosineEv))\n",
        "\n",
        "print(\"\\nZeroed\")\n",
        "print(\"Cosine Similarity: \\t\", cos(groundTruthEv, zeroedEv))\n",
        "print(\"Euclidean Distance: \\t\", euc2(groundTruthEv, zeroedEv))\n",
        "\n",
        "print(\"\\nMean\")\n",
        "print(\"Cosine Similarity: \\t\", cos(groundTruthEv, meanEv))\n",
        "print(\"Euclidean Distance: \\t\", euc2(groundTruthEv, meanEv))"
      ],
      "metadata": {
        "colab": {
          "base_uri": "https://localhost:8080/",
          "height": 0
        },
        "id": "c5MLYqmZUAfO",
        "outputId": "e56d08b8-e088-45af-b909-6db62436b0f2"
      },
      "execution_count": 30,
      "outputs": [
        {
          "output_type": "stream",
          "name": "stdout",
          "text": [
            "Ground Truth vs Cosine Similarity\n",
            "Cosine Similarity: \t 0.08787288\n",
            "Euclidean Distance: \t 19.994143\n",
            "\n",
            "Idenities\n",
            "Cosine Similarity: \t 0.99999994\n",
            "Euclidean Distance: \t 0.0\n",
            "\n",
            "Zeroed\n",
            "Cosine Similarity: \t 0.0\n",
            "Euclidean Distance: \t 9.899494\n",
            "\n",
            "Mean\n",
            "Cosine Similarity: \t 0.08073495\n",
            "Euclidean Distance: \t 9.867179\n"
          ]
        }
      ]
    },
    {
      "cell_type": "markdown",
      "source": [
        "# Linear Regression"
      ],
      "metadata": {
        "id": "hx-L6RH2YnNR"
      }
    },
    {
      "cell_type": "markdown",
      "source": [
        "2 sets of indices on data.  \n",
        "$m$ = Subset of $M$  \n",
        "$k$ = subset of $K$  \n",
        "\n",
        "$Μ$ = Set of all edges  \n",
        "\n",
        "\n",
        "```\n",
        "edges = [(u1, u2), (u1, u3), ...]\n",
        "```\n",
        "\n",
        "\n",
        "\n",
        "$K$ = Set of all word vector indices\n",
        "\n",
        "$N_{mk}$ = Edges and associated word vector subset similarity.  \n",
        "\n",
        "$x$ = weights on wordvector indices\n",
        "\n",
        "$N_{mk}$ = \n",
        "\n",
        "```\n",
        "[\n",
        "  (u1, u2) = cosine(u1_kx, u2_kx)\n",
        "  (u1, u3) = cosine(u1_kx, u3_kx)\n",
        "  .\n",
        "  .\n",
        "  .\n",
        "]\n",
        "u1_kx = [ (k_i * x_i * u1_i) .... ]\n",
        "```\n",
        "if $i$ in set $k$ then $k_i=1$ otherwise $k_i = 0$\n",
        "\n",
        "Can try running this 2-level batching, but in this case not sure if going to be necessary, but actually maybe for ngrams and stuff.  \n",
        "  \n",
        "Exponential nature of edges.  \n",
        "Exponential nature of ngrams.\n",
        "\n"
      ],
      "metadata": {
        "id": "2XlMi0BGj4lX"
      }
    },
    {
      "cell_type": "markdown",
      "source": [
        "### Preparing the Data"
      ],
      "metadata": {
        "id": "iIfVctz4s3un"
      }
    },
    {
      "cell_type": "code",
      "source": [
        "def constructSetIndex(setToIndex : Set) -> IndexMap:\n",
        "  return createWordVecIndex(setToIndex)\n",
        "\n",
        "def userIdxToWvVector(userWordVecMap, userIndexMap):\n",
        "  wordVecLength = len(list(userWordVecMap.values())[0])\n",
        "  dataWV = np.zeros((len(userIndexMap), wordVecLength))\n",
        "  for user, wv in userWordVecMap.items():\n",
        "    idx = userIndexMap[user]\n",
        "    dataWV[idx] = wv\n",
        "  return dataWV\n",
        "\n",
        "def constructM(userIndexMap, edgeIndexMap):\n",
        "  dataM = np.zeros((len(edgeIndexMap), 2))\n",
        "  for (u1, u2), idx in edgeIndexMap.items():\n",
        "    dataM[idx] = np.array([ np.array(userIndexMap[u1]), np.array(userIndexMap[u2]) ])\n",
        "  return dataM"
      ],
      "metadata": {
        "id": "RUi-00KyYyl4"
      },
      "execution_count": 31,
      "outputs": []
    },
    {
      "cell_type": "code",
      "source": [
        "edgeIndexMap = constructSetIndex(edges)\n",
        "userIndexMap = constructSetIndex(list(userWordVecMap.keys()))\n",
        "\n",
        "npGT = graphEdgeVec(graphGroundTruth, edgeIndexMap)\n",
        "npWV = userIdxToWvVector(userWordVecMap, userIndexMap).astype(int)\n",
        "npM = constructM(userIndexMap, edgeIndexMap).astype(int)\n",
        "\n",
        "npR = npWV[npM]\n",
        "\n",
        "dataGT = jnp.array(npGT)\n",
        "dataWV = jnp.array(npWV)\n",
        "dataM = jnp.array(npM)\n",
        "dataR = jnp.array(npR)\n",
        "\n",
        "print(\"dataM\", dataM.shape, dataM[:4])\n",
        "print(\"dataWV\", dataWV.shape, dataWV[:4])\n",
        "print(\"dataGT\", dataGT.shape, dataGT[:4])\n",
        "print(\"dataR\", dataR.shape, dataR[:4])"
      ],
      "metadata": {
        "colab": {
          "base_uri": "https://localhost:8080/",
          "height": 0
        },
        "id": "oFJagzkmEby3",
        "outputId": "16a2133d-34c7-43f6-e040-adb428f5adfe"
      },
      "execution_count": 32,
      "outputs": [
        {
          "output_type": "stream",
          "name": "stdout",
          "text": [
            "dataM (43660, 2) [[201 212]\n",
            " [104 210]\n",
            " [ 22 253]\n",
            " [234  21]]\n",
            "dataWV (296, 3933) [[ 61  61 122 ...   0   0   0]\n",
            " [  0   0   0 ...   0   0   0]\n",
            " [  0   0   0 ...   0   0   0]\n",
            " [  1   0   0 ...   0   0   0]]\n",
            "dataGT (43660,) [0. 0. 0. 0.]\n",
            "dataR (43660, 2, 3933) [[[1 0 0 ... 0 0 0]\n",
            "  [0 0 0 ... 0 0 0]]\n",
            "\n",
            " [[1 0 0 ... 0 0 0]\n",
            "  [0 0 1 ... 0 0 0]]\n",
            "\n",
            " [[0 0 0 ... 0 0 0]\n",
            "  [0 0 0 ... 0 0 0]]\n",
            "\n",
            " [[1 0 0 ... 0 0 0]\n",
            "  [0 1 0 ... 0 0 0]]]\n"
          ]
        }
      ]
    },
    {
      "cell_type": "code",
      "source": [
        "a = np.array([\n",
        "  [[1,2,3],[4,5,6]],\n",
        "  [[7,8,9],[10,11,12]]\n",
        " ])\n",
        "b = np.array([2, 0, 1])\n",
        "print(a.shape)\n",
        "a*b"
      ],
      "metadata": {
        "colab": {
          "base_uri": "https://localhost:8080/",
          "height": 0
        },
        "id": "6PaO6IHzu1fn",
        "outputId": "cb2c6519-bfd5-49ac-97f7-af136fb32cab"
      },
      "execution_count": 33,
      "outputs": [
        {
          "output_type": "stream",
          "name": "stdout",
          "text": [
            "(2, 2, 3)\n"
          ]
        },
        {
          "output_type": "execute_result",
          "data": {
            "text/plain": [
              "array([[[ 2,  0,  3],\n",
              "        [ 8,  0,  6]],\n",
              "\n",
              "       [[14,  0,  9],\n",
              "        [20,  0, 12]]])"
            ]
          },
          "metadata": {},
          "execution_count": 33
        }
      ]
    },
    {
      "cell_type": "markdown",
      "source": [
        "### Indexing and Batching the Data"
      ],
      "metadata": {
        "id": "np6zy_4Ptcxh"
      }
    },
    {
      "cell_type": "code",
      "source": [
        "K = jnp.arange(len(wvIndex))\n",
        "M = jnp.arange(len(edgeVecIndex))\n",
        "\n",
        "def indices(key, bm, bk):\n",
        "  m = random.choice(key, M, [bm])\n",
        "  k = random.choice(key, K, [bk])\n",
        "  return m, k"
      ],
      "metadata": {
        "id": "khpeN91utll_"
      },
      "execution_count": 34,
      "outputs": []
    },
    {
      "cell_type": "markdown",
      "source": [
        "### Loss Function"
      ],
      "metadata": {
        "id": "WCUYWaA3s78E"
      }
    },
    {
      "cell_type": "code",
      "source": [
        "\n",
        "@jit\n",
        "def loss(x, m, k):\n",
        "  a1 = dataM.at[m].get()\n",
        "  a2 = dataWV.at[a1].get()\n",
        "\n",
        "  a3 = a2.T.at[k].get().T\n",
        "  x1 = x.at[k].get()\n",
        "\n",
        "  a4 = a3 * x1\n",
        "  a5 = vcos2(a4)\n",
        "  return cos(a5, dataGT[m])\n",
        "\n",
        "@jit\n",
        "def loss_mse(x, m, k):\n",
        "  a1 = dataM.at[m].get()\n",
        "  a2 = dataWV.at[a1].get()\n",
        "\n",
        "  a3 = a2.T.at[k].get().T\n",
        "  x1 = x.at[k].get()\n",
        "\n",
        "  a4 = a3 * x1\n",
        "  a5 = vmse(a4)\n",
        "  return mse(a5, dataGT[m])\n",
        "\n",
        "@jit\n",
        "def loss_unbatched(x):\n",
        "  a1 = dataR * x\n",
        "  a2 = vmap(cos2)(a1)\n",
        "  return cos(a2, dataGT)\n",
        "\n",
        "@jit\n",
        "def cos(v1 : Vec, v2 : Vec) -> float:\n",
        "  return jnp.sum(v1 * v2) / (jnp.sqrt(jnp.sum(v1**2)) * (jnp.sqrt(jnp.sum(v2**2))) + 0.000001)\n",
        "\n",
        "@jit\n",
        "def cos2(v : Vec) -> float:\n",
        "  v1 = v[0]\n",
        "  v2 = v[1]\n",
        "  r = jnp.sum(v1 * v2) / (jnp.sqrt(jnp.sum(v1**2)) * (jnp.sqrt(jnp.sum(v2**2))) + 0.000001)\n",
        "  return r\n",
        "\n",
        "@jit\n",
        "def euc2(v1 : Vec, v2 : Vec) -> float:\n",
        "  return jnp.sqrt(jnp.sum((v1 - v2)**2))\n",
        "\n",
        "@jit\n",
        "def euc2(v1 : Vec, v2 : Vec) -> float:\n",
        "  return jnp.sqrt(jnp.sum((v1 - v2)**2))\n",
        "\n",
        "\n",
        "@jit\n",
        "def mse2(v) -> float:\n",
        "  v1 = v[0]\n",
        "  v2 = v[1]\n",
        "  return jnp.sum((v1 - v2)**2) / jnp.size(v1)\n",
        "\n",
        "@jit\n",
        "def mse(v1, v2) -> float:\n",
        "  return jnp.sum((v1 - v2)**2) / jnp.size(v1)\n",
        "\n",
        "vcos2 = vmap(cos2)\n",
        "vmse = vmap(mse2)\n",
        "\n"
      ],
      "metadata": {
        "id": "NghVOzZHQaj9"
      },
      "execution_count": 74,
      "outputs": []
    },
    {
      "cell_type": "code",
      "source": [
        "loss_unbatched(x)"
      ],
      "metadata": {
        "colab": {
          "base_uri": "https://localhost:8080/",
          "height": 0
        },
        "id": "W4X0DRF3yAUL",
        "outputId": "e2ed8144-5eb1-45b4-9743-e2d39aea1555"
      },
      "execution_count": 50,
      "outputs": [
        {
          "output_type": "execute_result",
          "data": {
            "text/plain": [
              "DeviceArray(0.08787287, dtype=float32)"
            ]
          },
          "metadata": {},
          "execution_count": 50
        }
      ]
    },
    {
      "cell_type": "code",
      "source": [
        "key = random.PRNGKey(0)\n",
        "x = jnp.ones(len(K))\n",
        "m, k = indices(key, len(M), len(K))\n",
        "m2, k2 = indices(key, 128, len(K))\n",
        "m3, k3 = indices(key, 128, 128)\n",
        "%timeit loss(x, m, k)\n",
        "%timeit loss(x, m2, k2)\n",
        "%timeit loss(x, m3, k3)"
      ],
      "metadata": {
        "colab": {
          "base_uri": "https://localhost:8080/",
          "height": 0
        },
        "id": "dmVf6MVejNUA",
        "outputId": "29db4861-6fc3-4e16-bd92-adb9662c462b"
      },
      "execution_count": 57,
      "outputs": [
        {
          "output_type": "stream",
          "name": "stdout",
          "text": [
            "The slowest run took 4908.44 times longer than the fastest. This could mean that an intermediate result is being cached.\n",
            "1 loop, best of 5: 53.4 µs per loop\n",
            "The slowest run took 6140.11 times longer than the fastest. This could mean that an intermediate result is being cached.\n",
            "1 loop, best of 5: 39.7 µs per loop\n",
            "The slowest run took 4399.98 times longer than the fastest. This could mean that an intermediate result is being cached.\n",
            "1 loop, best of 5: 54.7 µs per loop\n"
          ]
        }
      ]
    },
    {
      "cell_type": "code",
      "source": [
        "print(len(M))\n",
        "print(len(K))"
      ],
      "metadata": {
        "colab": {
          "base_uri": "https://localhost:8080/",
          "height": 0
        },
        "id": "fNGiVusOqx05",
        "outputId": "b96d85ba-da3c-437d-cf46-1ef87df462ed"
      },
      "execution_count": 37,
      "outputs": [
        {
          "output_type": "stream",
          "name": "stdout",
          "text": [
            "43660\n",
            "3933\n"
          ]
        }
      ]
    },
    {
      "cell_type": "markdown",
      "source": [
        "#### On CPU \n",
        "##### 43660 Edges, 3933 Tokens\n",
        "- 1 loop, best of 5: 12.5 s per loop  \n",
        "\n",
        "##### 128 Edges, 3933 Tokens\n",
        "- 1 loop, best of 5: 12 ms per loop   \n",
        "\n",
        "##### 128 Edges, 128 Tokens\n",
        "- 1 loop, best of 5: 196 µs per loop   \n",
        "\n",
        "#### On GPU\n",
        "##### 43660 Edges, 3933 Tokens\n",
        "- 100 loops, best of 5: 19.5 ms per loop\n",
        "\n",
        "##### 128 Edges, 3933 Tokens\n",
        "- 100 loops, best of 5: 124 µs per loop  \n",
        "\n",
        "##### 128 Edges, 128 Tokens\n",
        "- 10000 loops, best of 5: 44.7 µs per loop "
      ],
      "metadata": {
        "id": "TxasnCdkqnid"
      }
    },
    {
      "cell_type": "markdown",
      "source": [
        "Looks like gradients don't work with cosine similarity.  \n",
        "Gradient immediately returns NaN"
      ],
      "metadata": {
        "id": "LGiI01zwmZRD"
      }
    },
    {
      "cell_type": "markdown",
      "source": [
        "### Stochastic Gradient Descent\n"
      ],
      "metadata": {
        "id": "OgrlysDauL3i"
      }
    },
    {
      "cell_type": "code",
      "source": [
        "def monitor(i, iters, p, x, F, F2):\n",
        "  p2 = round((i/iters) * 100)\n",
        "  if p2 > p:\n",
        "    p = p2; print(p, \"%\")\n",
        "    F += [loss(x, M, K)]\n",
        "    F2 += [loss_mse(x, M, K)]\n",
        "  return p, F, F2\n",
        "\n",
        "def sgd(x0, alpha, iters, bm, bk, rngKey):\n",
        "  x = x0\n",
        "\n",
        "  F = []; F2 = []; p=0\n",
        "\n",
        "  for i in range(iters):\n",
        "    p, F, F2 = monitor(i, iters, p, x, F, F2)\n",
        "\n",
        "    key, rngKey = random.split(rngKey)\n",
        "    m, k = indices(key, bm, bk)\n",
        "\n",
        "    g = (grad(loss_mse)(x, m, k))\n",
        "    x = x - alpha * g\n",
        "  return x, F, F2\n",
        "  \n",
        "def adam(x0, alpha, iters, bm, bk, b1, b2, rngKey):\n",
        "  F = []; F2 = []; p=0\n",
        "\n",
        "  x = x0\n",
        "  am = jnp.zeros(len(x0)) ; av = jnp.zeros(len(x0)) ; ak = 1\n",
        "  for i in range(iters):\n",
        "    p, F, F2 = monitor(i, iters, p, x, F, F2)\n",
        "\n",
        "    key, rngKey = random.split(rngKey)\n",
        "    m, k = indices(key, bm, bk)\n",
        "\n",
        "    # might need to skip the weight updates and history record when k decides to turn off some of the weigths\n",
        "    # below part of adam can be jit'ed, need to extract it into separate function and carry over the context\n",
        "    g = (grad(loss_mse)(x, m, k))\n",
        "    am = b1 * am + (1 - b1) * g\n",
        "    av = b2 * av + (1 - b2) * g**2\n",
        "    mhat = (am / (1 - b1**ak)) \n",
        "    vhat = (av / (1 - b2**ak))\n",
        "    x = x - alpha * (mhat / (jnp.sqrt(vhat) + 0.00001))\n",
        "    ak = ak + 1\n",
        "    \n",
        "  return x, F, F2"
      ],
      "metadata": {
        "id": "8mhib3RquPWK"
      },
      "execution_count": 187,
      "outputs": []
    },
    {
      "cell_type": "markdown",
      "source": [
        "### Running Code"
      ],
      "metadata": {
        "id": "OmuPs4PIuoYm"
      }
    },
    {
      "cell_type": "code",
      "source": [
        "key = random.PRNGKey(0)\n",
        "x = jnp.ones(len(K))\n",
        "r, F, F2 = sgd(x, 0.1, 100_000, 1024, 2048, key)"
      ],
      "metadata": {
        "id": "l-p91rvPup4n"
      },
      "execution_count": null,
      "outputs": []
    },
    {
      "cell_type": "code",
      "source": [
        "ar, aF, aF2 = adam(x, 0.001, 100_000, 1024, 2048, b1=0.9, b2=0.999, rngKey=key)"
      ],
      "metadata": {
        "id": "AP05JsGyJvgz"
      },
      "execution_count": null,
      "outputs": []
    },
    {
      "cell_type": "code",
      "source": [
        "print(\"\\n Cosine Similarity\")\n",
        "print(\"Word Count: \\t\", loss(x, m, k))\n",
        "print(\"SGD: \\t \\t\", loss(r, m, k))\n",
        "print(\"Adam: \\t \\t\",loss(ar, m, k))\n",
        "print(\"\\n Mean Squared Error\")\n",
        "print(\"Word Count: \\t\", loss_mse(x, m, k))\n",
        "print(\"SGD: \\t \\t\",loss_mse(r, m, k))\n",
        "print(\"Adam: \\t \\t\", loss_mse(ar, m, k))"
      ],
      "metadata": {
        "colab": {
          "base_uri": "https://localhost:8080/",
          "height": 0
        },
        "id": "SQRGwJKb6a-Y",
        "outputId": "49ad0c4d-0089-49d1-9163-24a6af005872"
      },
      "execution_count": 227,
      "outputs": [
        {
          "output_type": "stream",
          "name": "stdout",
          "text": [
            "\n",
            " Cosine Similarity\n",
            "Word Count: \t 0.083588995\n",
            "SGD: \t \t 0.101690404\n",
            "Adam: \t \t 0.05863548\n",
            "\n",
            " Mean Squared Error\n",
            "Word Count: \t 2.256657\n",
            "SGD: \t \t 0.0076674037\n",
            "Adam: \t \t 0.0023069987\n"
          ]
        }
      ]
    },
    {
      "cell_type": "code",
      "source": [
        "import matplotlib.pyplot as plt\n",
        "plt.plot(range(len(F)), F, label=\"SGD Constant\")\n",
        "plt.plot(range(len(aF)), aF, label=\"SGD Adam\")\n",
        "plt.title(\"Cosine Similarity vs. %Iters \\n 100,000 iterations, 1024 Edge Batch, 2048 Word Batch\")\n",
        "plt.legend()"
      ],
      "metadata": {
        "colab": {
          "base_uri": "https://localhost:8080/",
          "height": 315
        },
        "id": "iNTrV8_o8Bys",
        "outputId": "f33a77eb-4812-4e44-fe8e-415dda546488"
      },
      "execution_count": 228,
      "outputs": [
        {
          "output_type": "execute_result",
          "data": {
            "text/plain": [
              "<matplotlib.legend.Legend at 0x7fb33d5d3dd0>"
            ]
          },
          "metadata": {},
          "execution_count": 228
        },
        {
          "output_type": "display_data",
          "data": {
            "text/plain": [
              "<Figure size 432x288 with 1 Axes>"
            ],
            "image/png": "[encoded data removed]"
          },
          "metadata": {
            "needs_background": "light"
          }
        }
      ]
    },
    {
      "cell_type": "code",
      "source": [
        "plt.semilogy(range(len(F2)), F2, label=\"SGD Constant\")\n",
        "plt.semilogy(range(len(aF2)), aF2, label=\"SGD Adam\")\n",
        "plt.title(\"MSE vs. %Iters \\n 100,000 iterations, 1024 Edge Batch, 2048 Word Batch\")\n",
        "plt.legend()"
      ],
      "metadata": {
        "colab": {
          "base_uri": "https://localhost:8080/",
          "height": 315
        },
        "id": "jxcXWMaG-nOS",
        "outputId": "64cf8638-dbb1-43c7-f595-b6f953a03a81"
      },
      "execution_count": 229,
      "outputs": [
        {
          "output_type": "execute_result",
          "data": {
            "text/plain": [
              "<matplotlib.legend.Legend at 0x7fb33d5f94d0>"
            ]
          },
          "metadata": {},
          "execution_count": 229
        },
        {
          "output_type": "display_data",
          "data": {
            "text/plain": [
              "<Figure size 432x288 with 1 Axes>"
            ],
            "image/png": "[encoded data removed]"
          },
          "metadata": {
            "needs_background": "light"
          }
        }
      ]
    },
    {
      "cell_type": "code",
      "source": [
        "r[:20]"
      ],
      "metadata": {
        "colab": {
          "base_uri": "https://localhost:8080/",
          "height": 0
        },
        "id": "tUfvdSpFhbe7",
        "outputId": "f289484a-282c-4977-9071-63ce295c31aa"
      },
      "execution_count": 151,
      "outputs": [
        {
          "output_type": "execute_result",
          "data": {
            "text/plain": [
              "DeviceArray([7.1032943e-08, 1.3062422e-07, 1.7305854e-27, 1.7696901e-07,\n",
              "             2.3065836e-07, 1.5334923e-06, 2.8520965e-03, 9.4957936e-01,\n",
              "             8.3257580e-01, 6.4646888e-01, 8.8769007e-01, 8.3618754e-01,\n",
              "             8.8702232e-01, 7.3227888e-01, 5.9314322e-01, 2.4836677e-08,\n",
              "             1.1635763e-09, 8.9975792e-01, 5.3561765e-01, 5.6239504e-01],            dtype=float32)"
            ]
          },
          "metadata": {},
          "execution_count": 151
        }
      ]
    },
    {
      "cell_type": "code",
      "source": [
        "def invertIndexMap(m):\n",
        "  m2 = {}\n",
        "  for v1, v2 in m.items():\n",
        "    m2[v2] = v1\n",
        "  return m2\n",
        "\n",
        "print(mapToTuples(wvIndex)[:10])\n",
        "print(mapToTuples(invertIndexMap(wvIndex))[:10])"
      ],
      "metadata": {
        "colab": {
          "base_uri": "https://localhost:8080/",
          "height": 0
        },
        "id": "2pzrxrKICGkz",
        "outputId": "f7ed2a7f-77cb-4f0f-e32e-dbf6f9f5f1cd"
      },
      "execution_count": 153,
      "outputs": [
        {
          "output_type": "stream",
          "name": "stdout",
          "text": [
            "[('cant', 0), ('quite', 1), ('call', 2), ('misogyny', 3), ('patriarchal', 4), ('patronising', 5), ('pompous', 6), ('pomp', 7), ('pompou', 8), ('r', 9)]\n",
            "[(0, 'cant'), (1, 'quite'), (2, 'call'), (3, 'misogyny'), (4, 'patriarchal'), (5, 'patronising'), (6, 'pompous'), (7, 'pomp'), (8, 'pompou'), (9, 'r')]\n"
          ]
        }
      ]
    },
    {
      "cell_type": "code",
      "source": [
        "def weightsToWordWeightMap(indexToWord, weights):\n",
        "  wordWeightMap = {}\n",
        "  for idx, weight in enumerate(weights):\n",
        "    wordWeightMap[indexToWord[idx]] = weight\n",
        "  return wordWeightMap"
      ],
      "metadata": {
        "id": "z6pJlVFkDwU2"
      },
      "execution_count": 166,
      "outputs": []
    },
    {
      "cell_type": "code",
      "source": [
        "indexToWord = invertIndexMap(wvIndex)\n",
        "wordWeightMap = weightsToWordWeightMap(indexToWord, np.array(r))\n",
        "wordWeightMapAdam = weightsToWordWeightMap(indexToWord, np.array(ar))"
      ],
      "metadata": {
        "id": "Zy-VUM_7GyPq"
      },
      "execution_count": 230,
      "outputs": []
    },
    {
      "cell_type": "code",
      "source": [
        "sortByVal(wordWeightMap)[:15]"
      ],
      "metadata": {
        "colab": {
          "base_uri": "https://localhost:8080/",
          "height": 0
        },
        "id": "AHWzAR9NHGHU",
        "outputId": "2cd264e7-92fd-437f-8571-331b2647ad06"
      },
      "execution_count": 235,
      "outputs": [
        {
          "output_type": "execute_result",
          "data": {
            "text/plain": [
              "[('laugh', 0.9802864),\n",
              " ('replace', 0.97996575),\n",
              " ('hide', 0.97991294),\n",
              " ('feeding', 0.97977316),\n",
              " ('goodness', 0.9795386),\n",
              " ('cry', 0.97935903),\n",
              " ('beating', 0.9786494),\n",
              " ('meaning', 0.97863996),\n",
              " ('sponsors', 0.97840333),\n",
              " ('apt', 0.9783374),\n",
              " ('speedy', 0.9780893),\n",
              " ('barely', 0.9779822),\n",
              " ('math', 0.9779201),\n",
              " ('disabled', 0.97778326),\n",
              " ('ashamed', 0.97768736)]"
            ]
          },
          "metadata": {},
          "execution_count": 235
        }
      ]
    },
    {
      "cell_type": "code",
      "source": [
        "sortByVal(wordWeightMap)[::-1][:10]"
      ],
      "metadata": {
        "colab": {
          "base_uri": "https://localhost:8080/",
          "height": 0
        },
        "id": "4TTrOR_QHgwo",
        "outputId": "caafd203-dc53-4e41-eeac-b0377b133dda"
      },
      "execution_count": 178,
      "outputs": [
        {
          "output_type": "execute_result",
          "data": {
            "text/plain": [
              "[('de', 2.0657565e-37),\n",
              " ('faites', 2.7457878e-33),\n",
              " ('minutes', 1.0961616e-32),\n",
              " ('hi', 2.888489e-30),\n",
              " ('trading', 8.569569e-28),\n",
              " ('call', 1.7305854e-27),\n",
              " ('house', 5.1235948e-24),\n",
              " ('breaking', 2.3990961e-23),\n",
              " ('echauffementn', 8.1240233e-22),\n",
              " ('us', 3.858e-19)]"
            ]
          },
          "metadata": {},
          "execution_count": 178
        }
      ]
    },
    {
      "cell_type": "code",
      "source": [
        "sortByVal(wordWeightMapAdam)[:15]"
      ],
      "metadata": {
        "colab": {
          "base_uri": "https://localhost:8080/",
          "height": 0
        },
        "id": "Iem_iacMIO52",
        "outputId": "25f4bf7e-3f51-405b-8c7c-d291e925ef96"
      },
      "execution_count": 234,
      "outputs": [
        {
          "output_type": "execute_result",
          "data": {
            "text/plain": [
              "[('strict', 1.7358292),\n",
              " ('magnitude', 1.6299992),\n",
              " ('lying', 1.4925587),\n",
              " ('path', 1.4883835),\n",
              " ('soldiers', 1.4870441),\n",
              " ('iron', 1.3758439),\n",
              " ('iraq', 1.3636775),\n",
              " ('gods', 1.3189857),\n",
              " ('projects', 1.3185166),\n",
              " ('believes', 1.3124821),\n",
              " ('nofly', 1.3078176),\n",
              " ('failures', 1.3036107),\n",
              " ('planes', 1.2055637),\n",
              " ('lived', 1.2036895),\n",
              " ('stress', 1.1933296)]"
            ]
          },
          "metadata": {},
          "execution_count": 234
        }
      ]
    },
    {
      "cell_type": "code",
      "source": [
        "sortByVal(wordWeightMapAdam)[::-1][:10]"
      ],
      "metadata": {
        "colab": {
          "base_uri": "https://localhost:8080/",
          "height": 0
        },
        "id": "5kJ5FeKDQ3ox",
        "outputId": "f26dcf75-a270-40a7-e0c7-bc010006d8e6"
      },
      "execution_count": 232,
      "outputs": [
        {
          "output_type": "execute_result",
          "data": {
            "text/plain": [
              "[('breaking', -1.1801656e-36),\n",
              " ('de', 9.9299254e-36),\n",
              " ('minutes', 1.3858809e-35),\n",
              " ('faites', 2.5593522e-35),\n",
              " ('echauffementn', 2.727802e-35),\n",
              " ('amp', 3.1712522e-35),\n",
              " ('trading', 3.6816586e-35),\n",
              " ('us', 4.099229e-35),\n",
              " ('hi', 4.119968e-35),\n",
              " ('esg', 4.467532e-35)]"
            ]
          },
          "metadata": {},
          "execution_count": 232
        }
      ]
    },
    {
      "cell_type": "code",
      "source": [
        ""
      ],
      "metadata": {
        "id": "Cg36cyBnQ9U5"
      },
      "execution_count": null,
      "outputs": []
    }
  ]
}