{
  "nbformat": 4,
  "nbformat_minor": 0,
  "metadata": {
    "colab": {
      "name": "Pre-Processing.ipynb",
      "provenance": []
    },
    "kernelspec": {
      "name": "python3",
      "display_name": "Python 3"
    },
    "language_info": {
      "name": "python"
    }
  },
  "cells": [
    {
      "cell_type": "code",
      "source": [
        "pip install tweet-preprocessor"
      ],
      "metadata": {
        "colab": {
          "base_uri": "https://localhost:8080/"
        },
        "id": "NBwgTefOfu_-",
        "outputId": "5cbe3d82-5ee4-489f-92fc-919146dcad57"
      },
      "execution_count": 1,
      "outputs": [
        {
          "output_type": "stream",
          "name": "stdout",
          "text": [
            "Requirement already satisfied: tweet-preprocessor in /usr/local/lib/python3.7/dist-packages (0.6.0)\n"
          ]
        }
      ]
    },
    {
      "cell_type": "code",
      "source": [
        "import preprocessor as p\n",
        "import json"
      ],
      "metadata": {
        "id": "csWJS282fyR4"
      },
      "execution_count": 10,
      "outputs": []
    },
    {
      "cell_type": "code",
      "source": [
        "f = open('data.json')\n",
        "data = json.load(f)"
      ],
      "metadata": {
        "id": "puXL-1OJnuz0"
      },
      "execution_count": 11,
      "outputs": []
    },
    {
      "cell_type": "code",
      "source": [
        "# Option Name\tOption Short Code\n",
        "# URL\tp.OPT.URL\n",
        "# Mention\tp.OPT.MENTION\n",
        "# Hashtag\tp.OPT.HASHTAG\n",
        "# Reserved Words\tp.OPT.RESERVED\n",
        "# Emoji\tp.OPT.EMOJI\n",
        "# Smiley\tp.OPT.SMILEY\n",
        "# Number\tp.OPT.NUMBER\n",
        "p.set_options(p.OPT.URL, p.OPT.EMOJI, p.OPT.MENTION)"
      ],
      "metadata": {
        "id": "4R7uXSjCjz3U"
      },
      "execution_count": 12,
      "outputs": []
    },
    {
      "cell_type": "code",
      "source": [
        "for i in data['dataset']:\n",
        "  var=p.clean(i['corpus'])\n",
        "  i['corpus']=var"
      ],
      "metadata": {
        "id": "335QHISRpCZk"
      },
      "execution_count": 13,
      "outputs": []
    },
    {
      "cell_type": "code",
      "source": [
        "json_file = open(\"data_pre.json\", \"a\")\n",
        "json_file.write(json.dumps(data))\n",
        "json_file.close()"
      ],
      "metadata": {
        "id": "AnsnYpmSSOrN"
      },
      "execution_count": 15,
      "outputs": []
    }
  ]
}
